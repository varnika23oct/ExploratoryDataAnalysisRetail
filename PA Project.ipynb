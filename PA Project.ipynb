{
 "cells": [
  {
   "cell_type": "markdown",
   "metadata": {},
   "source": [
    "Seoul Retail Case\n",
    "\n",
    "Company Q has five franchise stores (A through E) located in an exclusive shopping district in Seoul, South Korea. Each store sells the same brands and items. As per guesstimates, roughly 95% of their sales come from Japanese tourists. Even though the stores bear the name of the same company, they are effectively competitors due to their close proximity to each other. The franchisee of Store B, Mr. Choe, is interested in identifying the factors that affect sales in his store and the extent to which these factors affect sales. He is also interested in identifying the similarities and dissimilarities of these impact factors across the five stores. Mr. Choe plans to use these identified factors for sales and operations planning in his store. \n",
    "\n",
    "To help answer his questions, Mr. Choe has collected aggregated sales data on all four stores from  September 1 2011 to March 16 2013. Here are the variables which are captured in the dataset:\n",
    "\n",
    "Store ID\n",
    "Store Name\n",
    "Number of Customers\n",
    "Number of Items Sold\n",
    "Total Sales\n",
    "Discount: This is the subset of Total Sales and reflects the proceeds from any items sold at a discount.\n",
    "Average Sales per Customer\n",
    "Average Sales per Item\n",
    "Date\n",
    "Day of week (weekends are thought to be better for business than weekdays)\n",
    "Distances from Metro Stations X and Y (in meters and feet)\n",
    "Distance from the nearest main thoroughfare (in meters and feet)\n",
    "\n",
    "In addition, Mr. Choe was also able to collect data on the total number of Japanese tourists that visited Seoul. However, this data is available only from Feb 14 2012. Further, note that not all of these tourists might have visited Company Q’s retail stores. There might, however, be some correlation between the number of such tourists and some of the variables included in the dataset. Also, there may be differences across stores – for instance, the number of Japanese tourists may have a larger bearing on Store A’s revenues than on Store B’s.\n",
    "\n",
    "Further, since most of the customers are Japanese, the currency exchange rates may affect their buying habits. The JPY (Japanese Yen)/KRW (Korean Won) ratio is provided for each day in the dataset. \n",
    "\n",
    "Also, such tourists may be more likely to visit during Japanese national holidays. This effect may be more heightened if the holiday happens to fall on a Friday or a Monday, as it then implies an extended weekend vacation. The binary variable Holiday is set to 1 if the day is part of a holiday weekend such that a Japanese holiday falls on either a Friday or a Monday; otherwise, it is set to zero. For example, if there was a holiday on Friday March 2, 2012, then the binary variable for March 2, 3 and 4 is set to 1. Likewise, if the holiday falls on Monday March 5, the binary variable for March 3, 4 and 5 is set to 1. \n",
    "\n",
    "Weather may also play a role in the shopping behavior. People may be more likely to shop and spend under certain weather conditions than others. For this purpose, the following data were collected: Actual High Temperature and Outlook (whether it was sunny, cloudy, rainy, snowy, etc). \n",
    "\n",
    "Store A closed on March 17 2012 and reopened at the same location under new ownership on June 19 2012. \n",
    "\n",
    "Store C closed on March 17 2012 and reopened at a different location under new ownership on September 2 2012.\n",
    "\n",
    "Mr. Choe would like to know more about the factors that affect sales in each store and the importance of such factors. In writing your report to Mr. Choe, assume that he is a non-technical person and communicate your findings and analysis accordingly. \n"
   ]
  },
  {
   "cell_type": "code",
   "execution_count": 35,
   "metadata": {
    "collapsed": true
   },
   "outputs": [],
   "source": [
    "import pandas as pd\n",
    "import numpy as np\n",
    "from pandas import DataFrame,Series\n",
    "import matplotlib.pyplot as plt\n",
    "%matplotlib inline\n",
    "import seaborn as sns\n",
    "pd.options.display.max_columns = 999\n",
    "import warnings\n",
    "warnings.filterwarnings(\"ignore\")\n",
    "data = pd.read_csv('D:\\Data\\korea_data.csv')"
   ]
  },
  {
   "cell_type": "code",
   "execution_count": 36,
   "metadata": {
    "scrolled": true
   },
   "outputs": [
    {
     "data": {
      "text/html": [
       "<div>\n",
       "<style>\n",
       "    .dataframe thead tr:only-child th {\n",
       "        text-align: right;\n",
       "    }\n",
       "\n",
       "    .dataframe thead th {\n",
       "        text-align: left;\n",
       "    }\n",
       "\n",
       "    .dataframe tbody tr th {\n",
       "        vertical-align: top;\n",
       "    }\n",
       "</style>\n",
       "<table border=\"1\" class=\"dataframe\">\n",
       "  <thead>\n",
       "    <tr style=\"text-align: right;\">\n",
       "      <th></th>\n",
       "      <th>Code</th>\n",
       "      <th>Store Name</th>\n",
       "      <th># of Customers</th>\n",
       "      <th># of Items</th>\n",
       "      <th>Total Sales</th>\n",
       "      <th>Discount</th>\n",
       "      <th>Avg Sales per Customer</th>\n",
       "      <th>Avg Sales per Item</th>\n",
       "      <th>Date</th>\n",
       "      <th>Month</th>\n",
       "      <th>Year</th>\n",
       "      <th>Weekday</th>\n",
       "      <th>Distance from Station X(Meter)</th>\n",
       "      <th>Distance from Station X(Feet)</th>\n",
       "      <th>Distance from Station Y(Meter)</th>\n",
       "      <th>Distance from Station Y(Feet)</th>\n",
       "      <th>Distance from Main Street(Meter)</th>\n",
       "      <th>Distance from Main Street(Feet)</th>\n",
       "      <th>YenWonRatio</th>\n",
       "      <th>Holiday</th>\n",
       "      <th>ActualHighTemp</th>\n",
       "      <th>Outlook</th>\n",
       "      <th>Japanese Tourists</th>\n",
       "    </tr>\n",
       "  </thead>\n",
       "  <tbody>\n",
       "    <tr>\n",
       "      <th>0</th>\n",
       "      <td>20002</td>\n",
       "      <td>Store A</td>\n",
       "      <td>289</td>\n",
       "      <td>2528</td>\n",
       "      <td>19579200</td>\n",
       "      <td>0</td>\n",
       "      <td>67748</td>\n",
       "      <td>7745</td>\n",
       "      <td>9/1/2011</td>\n",
       "      <td>9</td>\n",
       "      <td>2011</td>\n",
       "      <td>Thursday</td>\n",
       "      <td>250</td>\n",
       "      <td>820</td>\n",
       "      <td>500</td>\n",
       "      <td>1640</td>\n",
       "      <td>220</td>\n",
       "      <td>722</td>\n",
       "      <td>13.93</td>\n",
       "      <td>0</td>\n",
       "      <td>87</td>\n",
       "      <td>NaN</td>\n",
       "      <td>NaN</td>\n",
       "    </tr>\n",
       "    <tr>\n",
       "      <th>1</th>\n",
       "      <td>20002</td>\n",
       "      <td>Store A</td>\n",
       "      <td>230</td>\n",
       "      <td>2404</td>\n",
       "      <td>20031700</td>\n",
       "      <td>0</td>\n",
       "      <td>87094</td>\n",
       "      <td>8333</td>\n",
       "      <td>9/2/2011</td>\n",
       "      <td>9</td>\n",
       "      <td>2011</td>\n",
       "      <td>Friday</td>\n",
       "      <td>250</td>\n",
       "      <td>820</td>\n",
       "      <td>500</td>\n",
       "      <td>1640</td>\n",
       "      <td>220</td>\n",
       "      <td>722</td>\n",
       "      <td>13.83</td>\n",
       "      <td>0</td>\n",
       "      <td>89</td>\n",
       "      <td>NaN</td>\n",
       "      <td>NaN</td>\n",
       "    </tr>\n",
       "    <tr>\n",
       "      <th>2</th>\n",
       "      <td>20002</td>\n",
       "      <td>Store A</td>\n",
       "      <td>244</td>\n",
       "      <td>2018</td>\n",
       "      <td>20681800</td>\n",
       "      <td>0</td>\n",
       "      <td>84761</td>\n",
       "      <td>10249</td>\n",
       "      <td>9/3/2011</td>\n",
       "      <td>9</td>\n",
       "      <td>2011</td>\n",
       "      <td>Saturday</td>\n",
       "      <td>250</td>\n",
       "      <td>820</td>\n",
       "      <td>500</td>\n",
       "      <td>1640</td>\n",
       "      <td>220</td>\n",
       "      <td>722</td>\n",
       "      <td>13.83</td>\n",
       "      <td>0</td>\n",
       "      <td>87</td>\n",
       "      <td>Cloudy</td>\n",
       "      <td>NaN</td>\n",
       "    </tr>\n",
       "    <tr>\n",
       "      <th>3</th>\n",
       "      <td>20002</td>\n",
       "      <td>Store A</td>\n",
       "      <td>230</td>\n",
       "      <td>1875</td>\n",
       "      <td>21673500</td>\n",
       "      <td>0</td>\n",
       "      <td>94233</td>\n",
       "      <td>11559</td>\n",
       "      <td>9/4/2011</td>\n",
       "      <td>9</td>\n",
       "      <td>2011</td>\n",
       "      <td>Sunday</td>\n",
       "      <td>250</td>\n",
       "      <td>820</td>\n",
       "      <td>500</td>\n",
       "      <td>1640</td>\n",
       "      <td>220</td>\n",
       "      <td>722</td>\n",
       "      <td>13.85</td>\n",
       "      <td>0</td>\n",
       "      <td>84</td>\n",
       "      <td>Cloudy</td>\n",
       "      <td>NaN</td>\n",
       "    </tr>\n",
       "    <tr>\n",
       "      <th>4</th>\n",
       "      <td>20002</td>\n",
       "      <td>Store A</td>\n",
       "      <td>306</td>\n",
       "      <td>2327</td>\n",
       "      <td>21652200</td>\n",
       "      <td>0</td>\n",
       "      <td>70759</td>\n",
       "      <td>9305</td>\n",
       "      <td>9/5/2011</td>\n",
       "      <td>9</td>\n",
       "      <td>2011</td>\n",
       "      <td>Monday</td>\n",
       "      <td>250</td>\n",
       "      <td>820</td>\n",
       "      <td>500</td>\n",
       "      <td>1640</td>\n",
       "      <td>220</td>\n",
       "      <td>722</td>\n",
       "      <td>13.85</td>\n",
       "      <td>0</td>\n",
       "      <td>82</td>\n",
       "      <td>Sunny</td>\n",
       "      <td>NaN</td>\n",
       "    </tr>\n",
       "  </tbody>\n",
       "</table>\n",
       "</div>"
      ],
      "text/plain": [
       "    Code Store Name  # of Customers  # of Items  Total Sales  Discount  \\\n",
       "0  20002    Store A             289        2528     19579200         0   \n",
       "1  20002    Store A             230        2404     20031700         0   \n",
       "2  20002    Store A             244        2018     20681800         0   \n",
       "3  20002    Store A             230        1875     21673500         0   \n",
       "4  20002    Store A             306        2327     21652200         0   \n",
       "\n",
       "   Avg Sales per Customer  Avg Sales per Item      Date  Month  Year  \\\n",
       "0                   67748                7745  9/1/2011      9  2011   \n",
       "1                   87094                8333  9/2/2011      9  2011   \n",
       "2                   84761               10249  9/3/2011      9  2011   \n",
       "3                   94233               11559  9/4/2011      9  2011   \n",
       "4                   70759                9305  9/5/2011      9  2011   \n",
       "\n",
       "    Weekday  Distance from Station X(Meter)  Distance from Station X(Feet)  \\\n",
       "0  Thursday                             250                            820   \n",
       "1    Friday                             250                            820   \n",
       "2  Saturday                             250                            820   \n",
       "3    Sunday                             250                            820   \n",
       "4    Monday                             250                            820   \n",
       "\n",
       "   Distance from Station Y(Meter)  Distance from Station Y(Feet)  \\\n",
       "0                             500                           1640   \n",
       "1                             500                           1640   \n",
       "2                             500                           1640   \n",
       "3                             500                           1640   \n",
       "4                             500                           1640   \n",
       "\n",
       "   Distance from Main Street(Meter)  Distance from Main Street(Feet)  \\\n",
       "0                               220                              722   \n",
       "1                               220                              722   \n",
       "2                               220                              722   \n",
       "3                               220                              722   \n",
       "4                               220                              722   \n",
       "\n",
       "   YenWonRatio  Holiday  ActualHighTemp Outlook  Japanese Tourists  \n",
       "0        13.93        0              87     NaN                NaN  \n",
       "1        13.83        0              89     NaN                NaN  \n",
       "2        13.83        0              87  Cloudy                NaN  \n",
       "3        13.85        0              84  Cloudy                NaN  \n",
       "4        13.85        0              82   Sunny                NaN  "
      ]
     },
     "execution_count": 36,
     "metadata": {},
     "output_type": "execute_result"
    }
   ],
   "source": [
    "data.head()"
   ]
  },
  {
   "cell_type": "code",
   "execution_count": 37,
   "metadata": {},
   "outputs": [
    {
     "data": {
      "text/plain": [
       "(2547, 23)"
      ]
     },
     "execution_count": 37,
     "metadata": {},
     "output_type": "execute_result"
    }
   ],
   "source": [
    "data.shape"
   ]
  },
  {
   "cell_type": "code",
   "execution_count": 38,
   "metadata": {},
   "outputs": [
    {
     "data": {
      "text/plain": [
       "['Code',\n",
       " 'Store Name',\n",
       " '# of Customers',\n",
       " '# of Items',\n",
       " 'Total Sales',\n",
       " 'Discount',\n",
       " 'Avg Sales per Customer',\n",
       " 'Avg Sales per Item',\n",
       " 'Date',\n",
       " 'Month',\n",
       " 'Year',\n",
       " 'Weekday',\n",
       " 'Distance from Station X(Meter)',\n",
       " 'Distance from Station X(Feet)',\n",
       " 'Distance from Station Y(Meter)',\n",
       " 'Distance from Station Y(Feet)',\n",
       " 'Distance from Main Street(Meter)',\n",
       " 'Distance from Main Street(Feet)',\n",
       " 'YenWonRatio',\n",
       " 'Holiday',\n",
       " 'ActualHighTemp',\n",
       " 'Outlook',\n",
       " 'Japanese Tourists']"
      ]
     },
     "execution_count": 38,
     "metadata": {},
     "output_type": "execute_result"
    }
   ],
   "source": [
    "data.columns.tolist()"
   ]
  },
  {
   "cell_type": "code",
   "execution_count": 39,
   "metadata": {
    "collapsed": true
   },
   "outputs": [],
   "source": [
    "data_filtered = data[[\n",
    " 'Store Name',\n",
    " '# of Customers',\n",
    " '# of Items',\n",
    " 'Total Sales',\n",
    " 'Discount',\n",
    "    'Month',\n",
    " 'Weekday',\n",
    " 'Distance from Station X(Meter)',\n",
    " 'Distance from Station Y(Meter)',\n",
    " 'Distance from Main Street(Meter)',\n",
    " 'YenWonRatio',\n",
    " 'Holiday',\n",
    " 'ActualHighTemp',\n",
    " 'Outlook',\n",
    " 'Japanese Tourists']]"
   ]
  },
  {
   "cell_type": "code",
   "execution_count": 40,
   "metadata": {},
   "outputs": [
    {
     "data": {
      "text/html": [
       "<div>\n",
       "<style>\n",
       "    .dataframe thead tr:only-child th {\n",
       "        text-align: right;\n",
       "    }\n",
       "\n",
       "    .dataframe thead th {\n",
       "        text-align: left;\n",
       "    }\n",
       "\n",
       "    .dataframe tbody tr th {\n",
       "        vertical-align: top;\n",
       "    }\n",
       "</style>\n",
       "<table border=\"1\" class=\"dataframe\">\n",
       "  <thead>\n",
       "    <tr style=\"text-align: right;\">\n",
       "      <th></th>\n",
       "      <th>Store Name</th>\n",
       "      <th># of Customers</th>\n",
       "      <th># of Items</th>\n",
       "      <th>Total Sales</th>\n",
       "      <th>Discount</th>\n",
       "      <th>Month</th>\n",
       "      <th>Weekday</th>\n",
       "      <th>Distance from Station X(Meter)</th>\n",
       "      <th>Distance from Station Y(Meter)</th>\n",
       "      <th>Distance from Main Street(Meter)</th>\n",
       "      <th>YenWonRatio</th>\n",
       "      <th>Holiday</th>\n",
       "      <th>ActualHighTemp</th>\n",
       "      <th>Outlook</th>\n",
       "      <th>Japanese Tourists</th>\n",
       "    </tr>\n",
       "  </thead>\n",
       "  <tbody>\n",
       "    <tr>\n",
       "      <th>0</th>\n",
       "      <td>Store A</td>\n",
       "      <td>289</td>\n",
       "      <td>2528</td>\n",
       "      <td>19579200</td>\n",
       "      <td>0</td>\n",
       "      <td>9</td>\n",
       "      <td>Thursday</td>\n",
       "      <td>250</td>\n",
       "      <td>500</td>\n",
       "      <td>220</td>\n",
       "      <td>13.93</td>\n",
       "      <td>0</td>\n",
       "      <td>87</td>\n",
       "      <td>NaN</td>\n",
       "      <td>NaN</td>\n",
       "    </tr>\n",
       "    <tr>\n",
       "      <th>1</th>\n",
       "      <td>Store A</td>\n",
       "      <td>230</td>\n",
       "      <td>2404</td>\n",
       "      <td>20031700</td>\n",
       "      <td>0</td>\n",
       "      <td>9</td>\n",
       "      <td>Friday</td>\n",
       "      <td>250</td>\n",
       "      <td>500</td>\n",
       "      <td>220</td>\n",
       "      <td>13.83</td>\n",
       "      <td>0</td>\n",
       "      <td>89</td>\n",
       "      <td>NaN</td>\n",
       "      <td>NaN</td>\n",
       "    </tr>\n",
       "    <tr>\n",
       "      <th>2</th>\n",
       "      <td>Store A</td>\n",
       "      <td>244</td>\n",
       "      <td>2018</td>\n",
       "      <td>20681800</td>\n",
       "      <td>0</td>\n",
       "      <td>9</td>\n",
       "      <td>Saturday</td>\n",
       "      <td>250</td>\n",
       "      <td>500</td>\n",
       "      <td>220</td>\n",
       "      <td>13.83</td>\n",
       "      <td>0</td>\n",
       "      <td>87</td>\n",
       "      <td>Cloudy</td>\n",
       "      <td>NaN</td>\n",
       "    </tr>\n",
       "    <tr>\n",
       "      <th>3</th>\n",
       "      <td>Store A</td>\n",
       "      <td>230</td>\n",
       "      <td>1875</td>\n",
       "      <td>21673500</td>\n",
       "      <td>0</td>\n",
       "      <td>9</td>\n",
       "      <td>Sunday</td>\n",
       "      <td>250</td>\n",
       "      <td>500</td>\n",
       "      <td>220</td>\n",
       "      <td>13.85</td>\n",
       "      <td>0</td>\n",
       "      <td>84</td>\n",
       "      <td>Cloudy</td>\n",
       "      <td>NaN</td>\n",
       "    </tr>\n",
       "    <tr>\n",
       "      <th>4</th>\n",
       "      <td>Store A</td>\n",
       "      <td>306</td>\n",
       "      <td>2327</td>\n",
       "      <td>21652200</td>\n",
       "      <td>0</td>\n",
       "      <td>9</td>\n",
       "      <td>Monday</td>\n",
       "      <td>250</td>\n",
       "      <td>500</td>\n",
       "      <td>220</td>\n",
       "      <td>13.85</td>\n",
       "      <td>0</td>\n",
       "      <td>82</td>\n",
       "      <td>Sunny</td>\n",
       "      <td>NaN</td>\n",
       "    </tr>\n",
       "  </tbody>\n",
       "</table>\n",
       "</div>"
      ],
      "text/plain": [
       "  Store Name  # of Customers  # of Items  Total Sales  Discount  Month  \\\n",
       "0    Store A             289        2528     19579200         0      9   \n",
       "1    Store A             230        2404     20031700         0      9   \n",
       "2    Store A             244        2018     20681800         0      9   \n",
       "3    Store A             230        1875     21673500         0      9   \n",
       "4    Store A             306        2327     21652200         0      9   \n",
       "\n",
       "    Weekday  Distance from Station X(Meter)  Distance from Station Y(Meter)  \\\n",
       "0  Thursday                             250                             500   \n",
       "1    Friday                             250                             500   \n",
       "2  Saturday                             250                             500   \n",
       "3    Sunday                             250                             500   \n",
       "4    Monday                             250                             500   \n",
       "\n",
       "   Distance from Main Street(Meter)  YenWonRatio  Holiday  ActualHighTemp  \\\n",
       "0                               220        13.93        0              87   \n",
       "1                               220        13.83        0              89   \n",
       "2                               220        13.83        0              87   \n",
       "3                               220        13.85        0              84   \n",
       "4                               220        13.85        0              82   \n",
       "\n",
       "  Outlook  Japanese Tourists  \n",
       "0     NaN                NaN  \n",
       "1     NaN                NaN  \n",
       "2  Cloudy                NaN  \n",
       "3  Cloudy                NaN  \n",
       "4   Sunny                NaN  "
      ]
     },
     "execution_count": 40,
     "metadata": {},
     "output_type": "execute_result"
    }
   ],
   "source": [
    "data_filtered.head()"
   ]
  },
  {
   "cell_type": "code",
   "execution_count": null,
   "metadata": {
    "collapsed": true
   },
   "outputs": [],
   "source": []
  },
  {
   "cell_type": "code",
   "execution_count": 41,
   "metadata": {
    "collapsed": true
   },
   "outputs": [],
   "source": [
    "stores = data_filtered['Store Name'].unique().tolist()"
   ]
  },
  {
   "cell_type": "code",
   "execution_count": 42,
   "metadata": {
    "scrolled": true
   },
   "outputs": [
    {
     "name": "stdout",
     "output_type": "stream",
     "text": [
      "('Store A', 7)\n",
      "('Store B', 17)\n",
      "('Store C', 1)\n",
      "('Store D', 13)\n",
      "('Store E', 0)\n"
     ]
    }
   ],
   "source": [
    "for i in range(5):\n",
    "    print(stores[i],data_filtered[(data_filtered['Discount'].values <0) & (data_filtered['Store Name'] == stores[i])].shape[0])"
   ]
  },
  {
   "cell_type": "code",
   "execution_count": 43,
   "metadata": {
    "scrolled": false
   },
   "outputs": [
    {
     "data": {
      "text/html": [
       "<div>\n",
       "<style>\n",
       "    .dataframe thead tr:only-child th {\n",
       "        text-align: right;\n",
       "    }\n",
       "\n",
       "    .dataframe thead th {\n",
       "        text-align: left;\n",
       "    }\n",
       "\n",
       "    .dataframe tbody tr th {\n",
       "        vertical-align: top;\n",
       "    }\n",
       "</style>\n",
       "<table border=\"1\" class=\"dataframe\">\n",
       "  <thead>\n",
       "    <tr style=\"text-align: right;\">\n",
       "      <th></th>\n",
       "      <th>Store Name</th>\n",
       "      <th># of Customers</th>\n",
       "      <th># of Items</th>\n",
       "      <th>Total Sales</th>\n",
       "      <th>Discount</th>\n",
       "      <th>Month</th>\n",
       "      <th>Weekday</th>\n",
       "      <th>Distance from Station X(Meter)</th>\n",
       "      <th>Distance from Station Y(Meter)</th>\n",
       "      <th>Distance from Main Street(Meter)</th>\n",
       "      <th>YenWonRatio</th>\n",
       "      <th>Holiday</th>\n",
       "      <th>ActualHighTemp</th>\n",
       "      <th>Outlook</th>\n",
       "      <th>Japanese Tourists</th>\n",
       "    </tr>\n",
       "  </thead>\n",
       "  <tbody>\n",
       "    <tr>\n",
       "      <th>0</th>\n",
       "      <td>Store A</td>\n",
       "      <td>289</td>\n",
       "      <td>2528</td>\n",
       "      <td>19579200</td>\n",
       "      <td>0</td>\n",
       "      <td>9</td>\n",
       "      <td>Thursday</td>\n",
       "      <td>250</td>\n",
       "      <td>500</td>\n",
       "      <td>220</td>\n",
       "      <td>13.93</td>\n",
       "      <td>0</td>\n",
       "      <td>87</td>\n",
       "      <td>NaN</td>\n",
       "      <td>NaN</td>\n",
       "    </tr>\n",
       "    <tr>\n",
       "      <th>1</th>\n",
       "      <td>Store A</td>\n",
       "      <td>230</td>\n",
       "      <td>2404</td>\n",
       "      <td>20031700</td>\n",
       "      <td>0</td>\n",
       "      <td>9</td>\n",
       "      <td>Friday</td>\n",
       "      <td>250</td>\n",
       "      <td>500</td>\n",
       "      <td>220</td>\n",
       "      <td>13.83</td>\n",
       "      <td>0</td>\n",
       "      <td>89</td>\n",
       "      <td>NaN</td>\n",
       "      <td>NaN</td>\n",
       "    </tr>\n",
       "    <tr>\n",
       "      <th>2</th>\n",
       "      <td>Store A</td>\n",
       "      <td>244</td>\n",
       "      <td>2018</td>\n",
       "      <td>20681800</td>\n",
       "      <td>0</td>\n",
       "      <td>9</td>\n",
       "      <td>Saturday</td>\n",
       "      <td>250</td>\n",
       "      <td>500</td>\n",
       "      <td>220</td>\n",
       "      <td>13.83</td>\n",
       "      <td>0</td>\n",
       "      <td>87</td>\n",
       "      <td>Cloudy</td>\n",
       "      <td>NaN</td>\n",
       "    </tr>\n",
       "    <tr>\n",
       "      <th>3</th>\n",
       "      <td>Store A</td>\n",
       "      <td>230</td>\n",
       "      <td>1875</td>\n",
       "      <td>21673500</td>\n",
       "      <td>0</td>\n",
       "      <td>9</td>\n",
       "      <td>Sunday</td>\n",
       "      <td>250</td>\n",
       "      <td>500</td>\n",
       "      <td>220</td>\n",
       "      <td>13.85</td>\n",
       "      <td>0</td>\n",
       "      <td>84</td>\n",
       "      <td>Cloudy</td>\n",
       "      <td>NaN</td>\n",
       "    </tr>\n",
       "    <tr>\n",
       "      <th>4</th>\n",
       "      <td>Store A</td>\n",
       "      <td>306</td>\n",
       "      <td>2327</td>\n",
       "      <td>21652200</td>\n",
       "      <td>0</td>\n",
       "      <td>9</td>\n",
       "      <td>Monday</td>\n",
       "      <td>250</td>\n",
       "      <td>500</td>\n",
       "      <td>220</td>\n",
       "      <td>13.85</td>\n",
       "      <td>0</td>\n",
       "      <td>82</td>\n",
       "      <td>Sunny</td>\n",
       "      <td>NaN</td>\n",
       "    </tr>\n",
       "  </tbody>\n",
       "</table>\n",
       "</div>"
      ],
      "text/plain": [
       "  Store Name  # of Customers  # of Items  Total Sales  Discount  Month  \\\n",
       "0    Store A             289        2528     19579200         0      9   \n",
       "1    Store A             230        2404     20031700         0      9   \n",
       "2    Store A             244        2018     20681800         0      9   \n",
       "3    Store A             230        1875     21673500         0      9   \n",
       "4    Store A             306        2327     21652200         0      9   \n",
       "\n",
       "    Weekday  Distance from Station X(Meter)  Distance from Station Y(Meter)  \\\n",
       "0  Thursday                             250                             500   \n",
       "1    Friday                             250                             500   \n",
       "2  Saturday                             250                             500   \n",
       "3    Sunday                             250                             500   \n",
       "4    Monday                             250                             500   \n",
       "\n",
       "   Distance from Main Street(Meter)  YenWonRatio  Holiday  ActualHighTemp  \\\n",
       "0                               220        13.93        0              87   \n",
       "1                               220        13.83        0              89   \n",
       "2                               220        13.83        0              87   \n",
       "3                               220        13.85        0              84   \n",
       "4                               220        13.85        0              82   \n",
       "\n",
       "  Outlook  Japanese Tourists  \n",
       "0     NaN                NaN  \n",
       "1     NaN                NaN  \n",
       "2  Cloudy                NaN  \n",
       "3  Cloudy                NaN  \n",
       "4   Sunny                NaN  "
      ]
     },
     "execution_count": 43,
     "metadata": {},
     "output_type": "execute_result"
    }
   ],
   "source": [
    "data_filtered.head()"
   ]
  },
  {
   "cell_type": "code",
   "execution_count": 44,
   "metadata": {},
   "outputs": [
    {
     "data": {
      "text/plain": [
       "Japanese Tourists                   1165\n",
       "Outlook                              355\n",
       "ActualHighTemp                         0\n",
       "Holiday                                0\n",
       "YenWonRatio                            0\n",
       "Distance from Main Street(Meter)       0\n",
       "Distance from Station Y(Meter)         0\n",
       "Distance from Station X(Meter)         0\n",
       "Weekday                                0\n",
       "Month                                  0\n",
       "Discount                               0\n",
       "Total Sales                            0\n",
       "# of Items                             0\n",
       "# of Customers                         0\n",
       "Store Name                             0\n",
       "dtype: int64"
      ]
     },
     "execution_count": 44,
     "metadata": {},
     "output_type": "execute_result"
    }
   ],
   "source": [
    "data_filtered.isnull().sum().sort_values(ascending = False)"
   ]
  },
  {
   "cell_type": "code",
   "execution_count": 45,
   "metadata": {},
   "outputs": [
    {
     "data": {
      "text/plain": [
       "Sunny     1018\n",
       "Rainy      431\n",
       "Cloudy     384\n",
       "Snowy      213\n",
       "cloudy      74\n",
       "rainy       72\n",
       "Name: Outlook, dtype: int64"
      ]
     },
     "execution_count": 45,
     "metadata": {},
     "output_type": "execute_result"
    }
   ],
   "source": [
    "data['Outlook'].value_counts()"
   ]
  },
  {
   "cell_type": "code",
   "execution_count": 46,
   "metadata": {
    "collapsed": true
   },
   "outputs": [],
   "source": [
    "data_filtered['Outlook'][data_filtered['Outlook'] == 'rainy'] = 'Rainy'\n",
    "\n",
    "data_filtered['Outlook'][data_filtered['Outlook'] == 'cloudy'] = 'Cloudy'"
   ]
  },
  {
   "cell_type": "code",
   "execution_count": 47,
   "metadata": {
    "collapsed": true
   },
   "outputs": [],
   "source": [
    "data_filtered['Outlook'].fillna(data_filtered['Outlook'].mode()[0],inplace = True)"
   ]
  },
  {
   "cell_type": "code",
   "execution_count": 48,
   "metadata": {
    "collapsed": true
   },
   "outputs": [],
   "source": [
    "data_filtered = data_filtered[['Store Name',\n",
    " 'Discount',\n",
    "     'Month',\n",
    " 'Weekday',\n",
    " 'YenWonRatio',\n",
    " 'Holiday',\n",
    " 'ActualHighTemp',\n",
    " 'Outlook',\n",
    " 'Japanese Tourists',\n",
    "    'Total Sales']]"
   ]
  },
  {
   "cell_type": "code",
   "execution_count": 49,
   "metadata": {
    "collapsed": true
   },
   "outputs": [],
   "source": [
    "data_filtered = data_filtered[data_filtered['Japanese Tourists'].isnull() != True]"
   ]
  },
  {
   "cell_type": "code",
   "execution_count": 50,
   "metadata": {},
   "outputs": [
    {
     "data": {
      "text/html": [
       "<div>\n",
       "<style>\n",
       "    .dataframe thead tr:only-child th {\n",
       "        text-align: right;\n",
       "    }\n",
       "\n",
       "    .dataframe thead th {\n",
       "        text-align: left;\n",
       "    }\n",
       "\n",
       "    .dataframe tbody tr th {\n",
       "        vertical-align: top;\n",
       "    }\n",
       "</style>\n",
       "<table border=\"1\" class=\"dataframe\">\n",
       "  <thead>\n",
       "    <tr style=\"text-align: right;\">\n",
       "      <th></th>\n",
       "      <th>Store Name</th>\n",
       "      <th>Discount</th>\n",
       "      <th>Month</th>\n",
       "      <th>Weekday</th>\n",
       "      <th>YenWonRatio</th>\n",
       "      <th>Holiday</th>\n",
       "      <th>ActualHighTemp</th>\n",
       "      <th>Outlook</th>\n",
       "      <th>Japanese Tourists</th>\n",
       "      <th>Total Sales</th>\n",
       "    </tr>\n",
       "  </thead>\n",
       "  <tbody>\n",
       "    <tr>\n",
       "      <th>153</th>\n",
       "      <td>Store A</td>\n",
       "      <td>0</td>\n",
       "      <td>2</td>\n",
       "      <td>Wednesday</td>\n",
       "      <td>14.71</td>\n",
       "      <td>0</td>\n",
       "      <td>20</td>\n",
       "      <td>Sunny</td>\n",
       "      <td>3168.0</td>\n",
       "      <td>21726050</td>\n",
       "    </tr>\n",
       "    <tr>\n",
       "      <th>154</th>\n",
       "      <td>Store A</td>\n",
       "      <td>0</td>\n",
       "      <td>2</td>\n",
       "      <td>Thursday</td>\n",
       "      <td>14.75</td>\n",
       "      <td>0</td>\n",
       "      <td>16</td>\n",
       "      <td>Sunny</td>\n",
       "      <td>2743.0</td>\n",
       "      <td>21019300</td>\n",
       "    </tr>\n",
       "    <tr>\n",
       "      <th>155</th>\n",
       "      <td>Store A</td>\n",
       "      <td>0</td>\n",
       "      <td>2</td>\n",
       "      <td>Friday</td>\n",
       "      <td>14.71</td>\n",
       "      <td>0</td>\n",
       "      <td>30</td>\n",
       "      <td>Snowy</td>\n",
       "      <td>2841.0</td>\n",
       "      <td>22036800</td>\n",
       "    </tr>\n",
       "    <tr>\n",
       "      <th>156</th>\n",
       "      <td>Store A</td>\n",
       "      <td>52500</td>\n",
       "      <td>2</td>\n",
       "      <td>Saturday</td>\n",
       "      <td>14.63</td>\n",
       "      <td>0</td>\n",
       "      <td>35</td>\n",
       "      <td>Sunny</td>\n",
       "      <td>4267.0</td>\n",
       "      <td>20776900</td>\n",
       "    </tr>\n",
       "    <tr>\n",
       "      <th>157</th>\n",
       "      <td>Store A</td>\n",
       "      <td>0</td>\n",
       "      <td>2</td>\n",
       "      <td>Sunday</td>\n",
       "      <td>14.51</td>\n",
       "      <td>0</td>\n",
       "      <td>40</td>\n",
       "      <td>Sunny</td>\n",
       "      <td>4626.0</td>\n",
       "      <td>22610900</td>\n",
       "    </tr>\n",
       "  </tbody>\n",
       "</table>\n",
       "</div>"
      ],
      "text/plain": [
       "    Store Name  Discount  Month    Weekday  YenWonRatio  Holiday  \\\n",
       "153    Store A         0      2  Wednesday        14.71        0   \n",
       "154    Store A         0      2   Thursday        14.75        0   \n",
       "155    Store A         0      2     Friday        14.71        0   \n",
       "156    Store A     52500      2   Saturday        14.63        0   \n",
       "157    Store A         0      2     Sunday        14.51        0   \n",
       "\n",
       "     ActualHighTemp Outlook  Japanese Tourists  Total Sales  \n",
       "153              20   Sunny             3168.0     21726050  \n",
       "154              16   Sunny             2743.0     21019300  \n",
       "155              30   Snowy             2841.0     22036800  \n",
       "156              35   Sunny             4267.0     20776900  \n",
       "157              40   Sunny             4626.0     22610900  "
      ]
     },
     "execution_count": 50,
     "metadata": {},
     "output_type": "execute_result"
    }
   ],
   "source": [
    "data_filtered.head()"
   ]
  },
  {
   "cell_type": "code",
   "execution_count": 51,
   "metadata": {},
   "outputs": [
    {
     "name": "stdout",
     "output_type": "stream",
     "text": [
      "<class 'pandas.core.frame.DataFrame'>\n",
      "Int64Index: 1382 entries, 153 to 2506\n",
      "Data columns (total 10 columns):\n",
      "Store Name           1382 non-null object\n",
      "Discount             1382 non-null int64\n",
      "Month                1382 non-null int64\n",
      "Weekday              1382 non-null object\n",
      "YenWonRatio          1382 non-null float64\n",
      "Holiday              1382 non-null int64\n",
      "ActualHighTemp       1382 non-null int64\n",
      "Outlook              1382 non-null object\n",
      "Japanese Tourists    1382 non-null float64\n",
      "Total Sales          1382 non-null int64\n",
      "dtypes: float64(2), int64(5), object(3)\n",
      "memory usage: 118.8+ KB\n"
     ]
    }
   ],
   "source": [
    "data_filtered.info()"
   ]
  },
  {
   "cell_type": "code",
   "execution_count": 52,
   "metadata": {
    "scrolled": true
   },
   "outputs": [],
   "source": [
    "data_filtered['SalesOnDiscPerc'] =(data_filtered['Discount']/data_filtered['Total Sales'])*100"
   ]
  },
  {
   "cell_type": "code",
   "execution_count": 53,
   "metadata": {},
   "outputs": [],
   "source": [
    "data_filtered['SalesOnDiscPerc'] = data_filtered['SalesOnDiscPerc'].astype('int64')"
   ]
  },
  {
   "cell_type": "code",
   "execution_count": 54,
   "metadata": {},
   "outputs": [
    {
     "data": {
      "text/html": [
       "<div>\n",
       "<style>\n",
       "    .dataframe thead tr:only-child th {\n",
       "        text-align: right;\n",
       "    }\n",
       "\n",
       "    .dataframe thead th {\n",
       "        text-align: left;\n",
       "    }\n",
       "\n",
       "    .dataframe tbody tr th {\n",
       "        vertical-align: top;\n",
       "    }\n",
       "</style>\n",
       "<table border=\"1\" class=\"dataframe\">\n",
       "  <thead>\n",
       "    <tr style=\"text-align: right;\">\n",
       "      <th></th>\n",
       "      <th>Store Name</th>\n",
       "      <th>Discount</th>\n",
       "      <th>Month</th>\n",
       "      <th>Weekday</th>\n",
       "      <th>YenWonRatio</th>\n",
       "      <th>Holiday</th>\n",
       "      <th>ActualHighTemp</th>\n",
       "      <th>Outlook</th>\n",
       "      <th>Japanese Tourists</th>\n",
       "      <th>Total Sales</th>\n",
       "      <th>SalesOnDiscPerc</th>\n",
       "    </tr>\n",
       "  </thead>\n",
       "  <tbody>\n",
       "    <tr>\n",
       "      <th>153</th>\n",
       "      <td>Store A</td>\n",
       "      <td>0</td>\n",
       "      <td>2</td>\n",
       "      <td>Wednesday</td>\n",
       "      <td>14.71</td>\n",
       "      <td>0</td>\n",
       "      <td>20</td>\n",
       "      <td>Sunny</td>\n",
       "      <td>3168.0</td>\n",
       "      <td>21726050</td>\n",
       "      <td>0</td>\n",
       "    </tr>\n",
       "    <tr>\n",
       "      <th>154</th>\n",
       "      <td>Store A</td>\n",
       "      <td>0</td>\n",
       "      <td>2</td>\n",
       "      <td>Thursday</td>\n",
       "      <td>14.75</td>\n",
       "      <td>0</td>\n",
       "      <td>16</td>\n",
       "      <td>Sunny</td>\n",
       "      <td>2743.0</td>\n",
       "      <td>21019300</td>\n",
       "      <td>0</td>\n",
       "    </tr>\n",
       "    <tr>\n",
       "      <th>155</th>\n",
       "      <td>Store A</td>\n",
       "      <td>0</td>\n",
       "      <td>2</td>\n",
       "      <td>Friday</td>\n",
       "      <td>14.71</td>\n",
       "      <td>0</td>\n",
       "      <td>30</td>\n",
       "      <td>Snowy</td>\n",
       "      <td>2841.0</td>\n",
       "      <td>22036800</td>\n",
       "      <td>0</td>\n",
       "    </tr>\n",
       "    <tr>\n",
       "      <th>156</th>\n",
       "      <td>Store A</td>\n",
       "      <td>52500</td>\n",
       "      <td>2</td>\n",
       "      <td>Saturday</td>\n",
       "      <td>14.63</td>\n",
       "      <td>0</td>\n",
       "      <td>35</td>\n",
       "      <td>Sunny</td>\n",
       "      <td>4267.0</td>\n",
       "      <td>20776900</td>\n",
       "      <td>0</td>\n",
       "    </tr>\n",
       "    <tr>\n",
       "      <th>157</th>\n",
       "      <td>Store A</td>\n",
       "      <td>0</td>\n",
       "      <td>2</td>\n",
       "      <td>Sunday</td>\n",
       "      <td>14.51</td>\n",
       "      <td>0</td>\n",
       "      <td>40</td>\n",
       "      <td>Sunny</td>\n",
       "      <td>4626.0</td>\n",
       "      <td>22610900</td>\n",
       "      <td>0</td>\n",
       "    </tr>\n",
       "  </tbody>\n",
       "</table>\n",
       "</div>"
      ],
      "text/plain": [
       "    Store Name  Discount  Month    Weekday  YenWonRatio  Holiday  \\\n",
       "153    Store A         0      2  Wednesday        14.71        0   \n",
       "154    Store A         0      2   Thursday        14.75        0   \n",
       "155    Store A         0      2     Friday        14.71        0   \n",
       "156    Store A     52500      2   Saturday        14.63        0   \n",
       "157    Store A         0      2     Sunday        14.51        0   \n",
       "\n",
       "     ActualHighTemp Outlook  Japanese Tourists  Total Sales  SalesOnDiscPerc  \n",
       "153              20   Sunny             3168.0     21726050                0  \n",
       "154              16   Sunny             2743.0     21019300                0  \n",
       "155              30   Snowy             2841.0     22036800                0  \n",
       "156              35   Sunny             4267.0     20776900                0  \n",
       "157              40   Sunny             4626.0     22610900                0  "
      ]
     },
     "execution_count": 54,
     "metadata": {},
     "output_type": "execute_result"
    }
   ],
   "source": [
    "data_filtered.head()"
   ]
  },
  {
   "cell_type": "code",
   "execution_count": 55,
   "metadata": {},
   "outputs": [
    {
     "data": {
      "text/plain": [
       "['Store Name',\n",
       " 'Discount',\n",
       " 'Month',\n",
       " 'Weekday',\n",
       " 'YenWonRatio',\n",
       " 'Holiday',\n",
       " 'ActualHighTemp',\n",
       " 'Outlook',\n",
       " 'Japanese Tourists',\n",
       " 'Total Sales',\n",
       " 'SalesOnDiscPerc']"
      ]
     },
     "execution_count": 55,
     "metadata": {},
     "output_type": "execute_result"
    }
   ],
   "source": [
    "data_filtered.columns.tolist()"
   ]
  },
  {
   "cell_type": "code",
   "execution_count": 56,
   "metadata": {
    "collapsed": true
   },
   "outputs": [],
   "source": [
    "data_filtered = data_filtered[['Store Name',\n",
    " 'Month',\n",
    " 'Weekday',\n",
    " 'YenWonRatio',\n",
    " 'Holiday',\n",
    " 'ActualHighTemp',\n",
    " 'Outlook',\n",
    " 'Japanese Tourists',\n",
    " 'SalesOnDiscPerc', 'Total Sales'\n",
    "]]"
   ]
  },
  {
   "cell_type": "code",
   "execution_count": 57,
   "metadata": {
    "collapsed": true
   },
   "outputs": [],
   "source": [
    "storeB = data_filtered[data_filtered['Store Name'] == 'Store B']\n",
    "storeA = data_filtered[data_filtered['Store Name'] == 'Store A']\n",
    "storeC = data_filtered[data_filtered['Store Name'] == 'Store C']\n",
    "storeD = data_filtered[data_filtered['Store Name'] == 'Store D']\n",
    "storeE = data_filtered[data_filtered['Store Name'] == 'Store E']\n"
   ]
  },
  {
   "cell_type": "code",
   "execution_count": 58,
   "metadata": {
    "collapsed": true,
    "scrolled": false
   },
   "outputs": [],
   "source": [
    "storeA.to_csv('storeA.csv', sep=',',index = False) \n",
    "storeB.to_csv('storeB.csv', sep=',',index = False) \n",
    "storeC.to_csv('storeC.csv', sep=',',index = False) \n",
    "storeD.to_csv('storeD.csv', sep=',',index = False) \n",
    "storeE.to_csv('storeE.csv', sep=',',index = False) "
   ]
  },
  {
   "cell_type": "code",
   "execution_count": 19,
   "metadata": {},
   "outputs": [
    {
     "name": "stdout",
     "output_type": "stream",
     "text": [
      "('Store A', array([500], dtype=int64))\n",
      "('Store B', array([550], dtype=int64))\n",
      "('Store C', array([550, 500], dtype=int64))\n",
      "('Store D', array([300], dtype=int64))\n",
      "('Store E', array([600], dtype=int64))\n"
     ]
    }
   ],
   "source": [
    "for i in range(5):\n",
    "    print(stores[i],data[data['Store Name'] == stores[i]]['Distance from Station Y(Meter)'].unique())"
   ]
  },
  {
   "cell_type": "code",
   "execution_count": 20,
   "metadata": {
    "scrolled": true
   },
   "outputs": [
    {
     "data": {
      "text/plain": [
       "Index([u'Code', u'Store Name', u'# of Customers', u'# of Items',\n",
       "       u'Total Sales', u'Discount', u'Avg Sales per Customer',\n",
       "       u'Avg Sales per Item', u'Date', u'Month', u'Year', u'Weekday',\n",
       "       u'Distance from Station X(Meter)', u'Distance from Station X(Feet)',\n",
       "       u'Distance from Station Y(Meter)', u'Distance from Station Y(Feet)',\n",
       "       u'Distance from Main Street(Meter)', u'Distance from Main Street(Feet)',\n",
       "       u'YenWonRatio', u'Holiday', u'ActualHighTemp', u'Outlook',\n",
       "       u'Japanese Tourists'],\n",
       "      dtype='object')"
      ]
     },
     "execution_count": 20,
     "metadata": {},
     "output_type": "execute_result"
    }
   ],
   "source": [
    "data.columns"
   ]
  },
  {
   "cell_type": "code",
   "execution_count": 21,
   "metadata": {
    "collapsed": true
   },
   "outputs": [],
   "source": [
    "a = data['Distance from Station X(Meter)'].unique()"
   ]
  },
  {
   "cell_type": "code",
   "execution_count": 22,
   "metadata": {},
   "outputs": [
    {
     "data": {
      "text/plain": [
       "array([500, 550, 300, 600], dtype=int64)"
      ]
     },
     "execution_count": 22,
     "metadata": {},
     "output_type": "execute_result"
    }
   ],
   "source": [
    "data['Distance from Station Y(Meter)'].unique()"
   ]
  },
  {
   "cell_type": "code",
   "execution_count": 26,
   "metadata": {
    "collapsed": true
   },
   "outputs": [],
   "source": [
    "a = [500, 550,550, 300, 600]"
   ]
  },
  {
   "cell_type": "code",
   "execution_count": 23,
   "metadata": {
    "collapsed": true
   },
   "outputs": [],
   "source": [
    "b = [500, 550, 550,300, 600]\n"
   ]
  },
  {
   "cell_type": "code",
   "execution_count": 28,
   "metadata": {
    "scrolled": true
   },
   "outputs": [
    {
     "data": {
      "text/plain": [
       "<matplotlib.collections.PathCollection at 0xe9da4e0>"
      ]
     },
     "execution_count": 28,
     "metadata": {},
     "output_type": "execute_result"
    },
    {
     "data": {
      "image/png": "[encoded data removed]",
      "text/plain": [
       "<matplotlib.figure.Figure at 0xe9dab38>"
      ]
     },
     "metadata": {},
     "output_type": "display_data"
    }
   ],
   "source": [
    "plt.scatter(x = a,y = b)"
   ]
  },
  {
   "cell_type": "code",
   "execution_count": 30,
   "metadata": {
    "scrolled": true
   },
   "outputs": [
    {
     "data": {
      "text/html": [
       "<div>\n",
       "<style>\n",
       "    .dataframe thead tr:only-child th {\n",
       "        text-align: right;\n",
       "    }\n",
       "\n",
       "    .dataframe thead th {\n",
       "        text-align: left;\n",
       "    }\n",
       "\n",
       "    .dataframe tbody tr th {\n",
       "        vertical-align: top;\n",
       "    }\n",
       "</style>\n",
       "<table border=\"1\" class=\"dataframe\">\n",
       "  <thead>\n",
       "    <tr style=\"text-align: right;\">\n",
       "      <th>Store Name</th>\n",
       "      <th>Store A</th>\n",
       "      <th>Store B</th>\n",
       "      <th>Store C</th>\n",
       "      <th>Store D</th>\n",
       "      <th>Store E</th>\n",
       "    </tr>\n",
       "    <tr>\n",
       "      <th>Holiday</th>\n",
       "      <th></th>\n",
       "      <th></th>\n",
       "      <th></th>\n",
       "      <th></th>\n",
       "      <th></th>\n",
       "    </tr>\n",
       "  </thead>\n",
       "  <tbody>\n",
       "    <tr>\n",
       "      <th>0</th>\n",
       "      <td>4500561262</td>\n",
       "      <td>2745899677</td>\n",
       "      <td>1235255950</td>\n",
       "      <td>3181331083</td>\n",
       "      <td>454290359</td>\n",
       "    </tr>\n",
       "    <tr>\n",
       "      <th>1</th>\n",
       "      <td>393131000</td>\n",
       "      <td>248504250</td>\n",
       "      <td>100452800</td>\n",
       "      <td>316238150</td>\n",
       "      <td>45693200</td>\n",
       "    </tr>\n",
       "  </tbody>\n",
       "</table>\n",
       "</div>"
      ],
      "text/plain": [
       "Store Name     Store A     Store B     Store C     Store D    Store E\n",
       "Holiday                                                              \n",
       "0           4500561262  2745899677  1235255950  3181331083  454290359\n",
       "1            393131000   248504250   100452800   316238150   45693200"
      ]
     },
     "execution_count": 30,
     "metadata": {},
     "output_type": "execute_result"
    }
   ],
   "source": [
    "data_filtered.groupby(['Store Name','Holiday'])['Total Sales'].sum().unstack().T"
   ]
  },
  {
   "cell_type": "code",
   "execution_count": 31,
   "metadata": {},
   "outputs": [
    {
     "data": {
      "text/html": [
       "<div>\n",
       "<style>\n",
       "    .dataframe thead tr:only-child th {\n",
       "        text-align: right;\n",
       "    }\n",
       "\n",
       "    .dataframe thead th {\n",
       "        text-align: left;\n",
       "    }\n",
       "\n",
       "    .dataframe tbody tr th {\n",
       "        vertical-align: top;\n",
       "    }\n",
       "</style>\n",
       "<table border=\"1\" class=\"dataframe\">\n",
       "  <thead>\n",
       "    <tr style=\"text-align: right;\">\n",
       "      <th></th>\n",
       "      <th>Store Name</th>\n",
       "      <th>Discount</th>\n",
       "      <th>Month</th>\n",
       "      <th>Weekday</th>\n",
       "      <th>YenWonRatio</th>\n",
       "      <th>Holiday</th>\n",
       "      <th>ActualHighTemp</th>\n",
       "      <th>Outlook</th>\n",
       "      <th>Japanese Tourists</th>\n",
       "      <th>Total Sales</th>\n",
       "    </tr>\n",
       "  </thead>\n",
       "  <tbody>\n",
       "    <tr>\n",
       "      <th>153</th>\n",
       "      <td>Store A</td>\n",
       "      <td>0</td>\n",
       "      <td>2</td>\n",
       "      <td>Wednesday</td>\n",
       "      <td>14.71</td>\n",
       "      <td>0</td>\n",
       "      <td>20</td>\n",
       "      <td>Sunny</td>\n",
       "      <td>3168.0</td>\n",
       "      <td>21726050</td>\n",
       "    </tr>\n",
       "    <tr>\n",
       "      <th>154</th>\n",
       "      <td>Store A</td>\n",
       "      <td>0</td>\n",
       "      <td>2</td>\n",
       "      <td>Thursday</td>\n",
       "      <td>14.75</td>\n",
       "      <td>0</td>\n",
       "      <td>16</td>\n",
       "      <td>Sunny</td>\n",
       "      <td>2743.0</td>\n",
       "      <td>21019300</td>\n",
       "    </tr>\n",
       "    <tr>\n",
       "      <th>155</th>\n",
       "      <td>Store A</td>\n",
       "      <td>0</td>\n",
       "      <td>2</td>\n",
       "      <td>Friday</td>\n",
       "      <td>14.71</td>\n",
       "      <td>0</td>\n",
       "      <td>30</td>\n",
       "      <td>Snowy</td>\n",
       "      <td>2841.0</td>\n",
       "      <td>22036800</td>\n",
       "    </tr>\n",
       "    <tr>\n",
       "      <th>156</th>\n",
       "      <td>Store A</td>\n",
       "      <td>52500</td>\n",
       "      <td>2</td>\n",
       "      <td>Saturday</td>\n",
       "      <td>14.63</td>\n",
       "      <td>0</td>\n",
       "      <td>35</td>\n",
       "      <td>Sunny</td>\n",
       "      <td>4267.0</td>\n",
       "      <td>20776900</td>\n",
       "    </tr>\n",
       "    <tr>\n",
       "      <th>157</th>\n",
       "      <td>Store A</td>\n",
       "      <td>0</td>\n",
       "      <td>2</td>\n",
       "      <td>Sunday</td>\n",
       "      <td>14.51</td>\n",
       "      <td>0</td>\n",
       "      <td>40</td>\n",
       "      <td>Sunny</td>\n",
       "      <td>4626.0</td>\n",
       "      <td>22610900</td>\n",
       "    </tr>\n",
       "  </tbody>\n",
       "</table>\n",
       "</div>"
      ],
      "text/plain": [
       "    Store Name  Discount  Month    Weekday  YenWonRatio  Holiday  \\\n",
       "153    Store A         0      2  Wednesday        14.71        0   \n",
       "154    Store A         0      2   Thursday        14.75        0   \n",
       "155    Store A         0      2     Friday        14.71        0   \n",
       "156    Store A     52500      2   Saturday        14.63        0   \n",
       "157    Store A         0      2     Sunday        14.51        0   \n",
       "\n",
       "     ActualHighTemp Outlook  Japanese Tourists  Total Sales  \n",
       "153              20   Sunny             3168.0     21726050  \n",
       "154              16   Sunny             2743.0     21019300  \n",
       "155              30   Snowy             2841.0     22036800  \n",
       "156              35   Sunny             4267.0     20776900  \n",
       "157              40   Sunny             4626.0     22610900  "
      ]
     },
     "execution_count": 31,
     "metadata": {},
     "output_type": "execute_result"
    }
   ],
   "source": [
    "data_filtered.head()"
   ]
  },
  {
   "cell_type": "code",
   "execution_count": 32,
   "metadata": {
    "scrolled": false
   },
   "outputs": [
    {
     "data": {
      "text/plain": [
       "Sunny     681\n",
       "Rainy     334\n",
       "Cloudy    252\n",
       "Snowy     115\n",
       "Name: Outlook, dtype: int64"
      ]
     },
     "execution_count": 32,
     "metadata": {},
     "output_type": "execute_result"
    }
   ],
   "source": [
    "data_filtered['Outlook'].value_counts()"
   ]
  },
  {
   "cell_type": "code",
   "execution_count": 33,
   "metadata": {
    "scrolled": true
   },
   "outputs": [
    {
     "data": {
      "text/plain": [
       "<matplotlib.axes._subplots.AxesSubplot at 0xeae12b0>"
      ]
     },
     "execution_count": 33,
     "metadata": {},
     "output_type": "execute_result"
    },
    {
     "data": {
      "image/png": "[encoded data removed]",
      "text/plain": [
       "<matplotlib.figure.Figure at 0xe91a4a8>"
      ]
     },
     "metadata": {},
     "output_type": "display_data"
    }
   ],
   "source": [
    "data_filtered.groupby(['Outlook'])['Total Sales'].mean().plot(kind = 'bar')"
   ]
  },
  {
   "cell_type": "code",
   "execution_count": 34,
   "metadata": {
    "scrolled": true
   },
   "outputs": [
    {
     "data": {
      "text/plain": [
       "['Store A', 'Store B', 'Store C', 'Store D', 'Store E']"
      ]
     },
     "execution_count": 34,
     "metadata": {},
     "output_type": "execute_result"
    }
   ],
   "source": [
    "stores"
   ]
  },
  {
   "cell_type": "code",
   "execution_count": 35,
   "metadata": {
    "scrolled": true
   },
   "outputs": [
    {
     "data": {
      "text/plain": [
       "array([ 19274671.32608696,  19949600.98591549,  13345825.2173913 ,\n",
       "        18566518.13821138])"
      ]
     },
     "execution_count": 35,
     "metadata": {},
     "output_type": "execute_result"
    }
   ],
   "source": [
    "data_filtered.groupby(['Store Name','Outlook'])['Total Sales'].mean().unstack(level = 0)['Store A'].values"
   ]
  },
  {
   "cell_type": "code",
   "execution_count": 36,
   "metadata": {},
   "outputs": [
    {
     "data": {
      "text/html": [
       "<div>\n",
       "<style>\n",
       "    .dataframe thead tr:only-child th {\n",
       "        text-align: right;\n",
       "    }\n",
       "\n",
       "    .dataframe thead th {\n",
       "        text-align: left;\n",
       "    }\n",
       "\n",
       "    .dataframe tbody tr th {\n",
       "        vertical-align: top;\n",
       "    }\n",
       "</style>\n",
       "<table border=\"1\" class=\"dataframe\">\n",
       "  <thead>\n",
       "    <tr style=\"text-align: right;\">\n",
       "      <th>Store Name</th>\n",
       "      <th>Store A</th>\n",
       "      <th>Store B</th>\n",
       "      <th>Store C</th>\n",
       "      <th>Store D</th>\n",
       "      <th>Store E</th>\n",
       "    </tr>\n",
       "    <tr>\n",
       "      <th>Outlook</th>\n",
       "      <th></th>\n",
       "      <th></th>\n",
       "      <th></th>\n",
       "      <th></th>\n",
       "      <th></th>\n",
       "    </tr>\n",
       "  </thead>\n",
       "  <tbody>\n",
       "    <tr>\n",
       "      <th>Cloudy</th>\n",
       "      <td>1.927467e+07</td>\n",
       "      <td>1.018898e+07</td>\n",
       "      <td>6.588592e+06</td>\n",
       "      <td>1.148003e+07</td>\n",
       "      <td>1.737250e+06</td>\n",
       "    </tr>\n",
       "    <tr>\n",
       "      <th>Rainy</th>\n",
       "      <td>1.994960e+07</td>\n",
       "      <td>1.024787e+07</td>\n",
       "      <td>7.919704e+06</td>\n",
       "      <td>1.260424e+07</td>\n",
       "      <td>1.631086e+06</td>\n",
       "    </tr>\n",
       "    <tr>\n",
       "      <th>Snowy</th>\n",
       "      <td>1.334583e+07</td>\n",
       "      <td>5.791707e+06</td>\n",
       "      <td>5.832760e+06</td>\n",
       "      <td>7.655976e+06</td>\n",
       "      <td>1.331349e+06</td>\n",
       "    </tr>\n",
       "    <tr>\n",
       "      <th>Sunny</th>\n",
       "      <td>1.856652e+07</td>\n",
       "      <td>9.621905e+06</td>\n",
       "      <td>7.358130e+06</td>\n",
       "      <td>1.125361e+07</td>\n",
       "      <td>1.578320e+06</td>\n",
       "    </tr>\n",
       "  </tbody>\n",
       "</table>\n",
       "</div>"
      ],
      "text/plain": [
       "Store Name       Store A       Store B       Store C       Store D  \\\n",
       "Outlook                                                              \n",
       "Cloudy      1.927467e+07  1.018898e+07  6.588592e+06  1.148003e+07   \n",
       "Rainy       1.994960e+07  1.024787e+07  7.919704e+06  1.260424e+07   \n",
       "Snowy       1.334583e+07  5.791707e+06  5.832760e+06  7.655976e+06   \n",
       "Sunny       1.856652e+07  9.621905e+06  7.358130e+06  1.125361e+07   \n",
       "\n",
       "Store Name       Store E  \n",
       "Outlook                   \n",
       "Cloudy      1.737250e+06  \n",
       "Rainy       1.631086e+06  \n",
       "Snowy       1.331349e+06  \n",
       "Sunny       1.578320e+06  "
      ]
     },
     "execution_count": 36,
     "metadata": {},
     "output_type": "execute_result"
    }
   ],
   "source": [
    "data_filtered.groupby(['Store Name','Outlook'])['Total Sales'].mean().unstack(level = 0)"
   ]
  },
  {
   "cell_type": "code",
   "execution_count": 37,
   "metadata": {},
   "outputs": [
    {
     "data": {
      "text/plain": [
       "Store Name\n",
       "Store A    4893692262\n",
       "Store D    3497569233\n",
       "Store B    2994403927\n",
       "Store C    1335708750\n",
       "Store E     499983559\n",
       "Name: Total Sales, dtype: int64"
      ]
     },
     "execution_count": 37,
     "metadata": {},
     "output_type": "execute_result"
    }
   ],
   "source": [
    "data_filtered.groupby(['Store Name'])['Total Sales'].sum().sort_values(ascending = False)"
   ]
  },
  {
   "cell_type": "code",
   "execution_count": 38,
   "metadata": {},
   "outputs": [
    {
     "data": {
      "image/png": "[encoded data removed]",
      "text/plain": [
       "<matplotlib.figure.Figure at 0xf6d69b0>"
      ]
     },
     "metadata": {},
     "output_type": "display_data"
    }
   ],
   "source": [
    "fig, axs = plt.subplots(2,3, figsize=(15, 6), facecolor='w', edgecolor='k',sharey=True)\n",
    "# fig.subplots_adjust(hspace = .5, wspace=.001)\n",
    "\n",
    "axs = axs.ravel()\n",
    "\n",
    "for i in range(5):\n",
    "#     sns.barplot(data = data_filtered[data_filtered['Store Name'] == stores[i]].groupby(['Outlook'])['Total Sales'].mean(),ax=axs[i])\n",
    "    sns.barplot(x = data_filtered.groupby(['Store Name','Outlook'])['Total Sales'].mean().unstack(level = 0)[stores[i]].index,ax = axs[i],y = data_filtered.groupby(['Store Name','Outlook'])['Total Sales'].mean().unstack(level = 0)[stores[i]].values)\n",
    "#     axs[i].plot(kind = 'bar',)\n"
   ]
  },
  {
   "cell_type": "code",
   "execution_count": 39,
   "metadata": {},
   "outputs": [
    {
     "data": {
      "image/png": "[encoded data removed]",
      "text/plain": [
       "<matplotlib.figure.Figure at 0x10073748>"
      ]
     },
     "metadata": {},
     "output_type": "display_data"
    }
   ],
   "source": [
    "fig, axs = plt.subplots(2,3, figsize=(15, 6), facecolor='w', edgecolor='k',sharey=True)\n",
    "# fig.subplots_adjust(hspace = .5, wspace=.001)\n",
    "\n",
    "axs = axs.ravel()\n",
    "\n",
    "for i in range(5):\n",
    "#     sns.barplot(data = data_filtered[data_filtered['Store Name'] == stores[i]].groupby(['Outlook'])['Total Sales'].mean(),ax=axs[i])\n",
    "    sns.barplot(x = data_filtered.groupby(['Store Name','Holiday'])['Total Sales'].mean().unstack(level = 0)[stores[i]].index,ax = axs[i],y = data_filtered.groupby(['Store Name','Holiday'])['Total Sales'].mean().unstack(level = 0)[stores[i]].values)\n",
    "#     axs[i].plot(kind = 'bar',)\n"
   ]
  },
  {
   "cell_type": "code",
   "execution_count": 40,
   "metadata": {},
   "outputs": [
    {
     "data": {
      "image/png": "[encoded data removed]",
      "text/plain": [
       "<matplotlib.figure.Figure at 0x102bec50>"
      ]
     },
     "metadata": {},
     "output_type": "display_data"
    }
   ],
   "source": [
    "fig, axs = plt.subplots(2,3, figsize=(15, 6), facecolor='w', edgecolor='k',sharey=True)\n",
    "# fig.subplots_adjust(hspace = .5, wspace=.001)\n",
    "\n",
    "axs = axs.ravel()\n",
    "\n",
    "for i in range(5):\n",
    "#     sns.barplot(data = data_filtered[data_filtered['Store Name'] == stores[i]].groupby(['Outlook'])['Total Sales'].mean(),ax=axs[i])\n",
    "    sns.barplot(x = data_filtered.groupby(['Store Name','Month'])['Total Sales'].sum().unstack(level = 0)[stores[i]].index,ax = axs[i],y = data_filtered.groupby(['Store Name','Month'])['Total Sales'].sum().unstack(level = 0)[stores[i]].values)\n",
    "#     axs[i].plot(kind = 'bar',)\n"
   ]
  },
  {
   "cell_type": "code",
   "execution_count": 41,
   "metadata": {
    "collapsed": true,
    "scrolled": true
   },
   "outputs": [],
   "source": [
    "# storeB_JT['Outlook'][storeB_JT['Outlook'] == 'rainy'] = 'Rainy'\n",
    "\n",
    "# storeB_JT['Outlook'][storeB_JT['Outlook'] == 'cloudy'] = 'Cloudy'"
   ]
  },
  {
   "cell_type": "code",
   "execution_count": 43,
   "metadata": {},
   "outputs": [
    {
     "data": {
      "image/png": "[encoded data removed]",
      "text/plain": [
       "<matplotlib.figure.Figure at 0xf5c3b38>"
      ]
     },
     "metadata": {},
     "output_type": "display_data"
    }
   ],
   "source": [
    "# most correlated features\n",
    "import seaborn as sns\n",
    "corrmat = storeB.corr()\n",
    "plt.figure(figsize = (15,7))\n",
    "# or fig, ax = plt.subplots(figsize=(20, 10))\n",
    "# top_corr_features = corrmat.index[abs(corrmat[\"Total Sales\"])>0.1]\n",
    "g = sns.heatmap(corrmat,annot=True,cmap=\"RdYlGn\")\n",
    "# g = sns.heatmap(corrmat,annot=True,cmap=\"RdYlGn\")\n",
    "\n",
    "#g = sns.heatmap(corrmat,annot=True,cmap=\"RdYlGn\")"
   ]
  },
  {
   "cell_type": "code",
   "execution_count": 44,
   "metadata": {},
   "outputs": [
    {
     "data": {
      "image/png": "[encoded data removed]",
      "text/plain": [
       "<matplotlib.figure.Figure at 0xe925eb8>"
      ]
     },
     "metadata": {},
     "output_type": "display_data"
    }
   ],
   "source": [
    "fig, axs = plt.subplots(2,3, figsize=(15, 10), facecolor='w', edgecolor='k',sharey=True)\n",
    "# fig.subplots_adjust(hspace = .5, wspace=.001)\n",
    "\n",
    "axs = axs.ravel()\n",
    "\n",
    "for i in range(5):\n",
    "#     sns.barplot(data = data_filtered[data_filtered['Store Name'] == stores[i]].groupby(['Outlook'])['Total Sales'].mean(),ax=axs[i])\n",
    "    corrmat = data_filtered[data_filtered['Store Name'] == stores[i]].corr()\n",
    "\n",
    "    g = sns.heatmap(corrmat,annot=True,cmap=\"RdYlGn\",ax = axs[i])\n",
    "\n",
    "#     axs[i].plot(kind = 'bar',)\n"
   ]
  },
  {
   "cell_type": "code",
   "execution_count": 45,
   "metadata": {},
   "outputs": [
    {
     "data": {
      "text/plain": [
       "(2547, 23)"
      ]
     },
     "execution_count": 45,
     "metadata": {},
     "output_type": "execute_result"
    }
   ],
   "source": [
    "data.shape"
   ]
  },
  {
   "cell_type": "code",
   "execution_count": 46,
   "metadata": {
    "scrolled": true
   },
   "outputs": [
    {
     "data": {
      "text/plain": [
       "(38, 23)"
      ]
     },
     "execution_count": 46,
     "metadata": {},
     "output_type": "execute_result"
    }
   ],
   "source": [
    "data[data['Discount'].values <0].shape"
   ]
  },
  {
   "cell_type": "code",
   "execution_count": null,
   "metadata": {
    "collapsed": true
   },
   "outputs": [],
   "source": []
  },
  {
   "cell_type": "code",
   "execution_count": 47,
   "metadata": {
    "scrolled": false
   },
   "outputs": [
    {
     "data": {
      "text/plain": [
       "<matplotlib.axes._subplots.AxesSubplot at 0xe97b128>"
      ]
     },
     "execution_count": 47,
     "metadata": {},
     "output_type": "execute_result"
    },
    {
     "data": {
      "image/png": "[encoded data removed]",
      "text/plain": [
       "<matplotlib.figure.Figure at 0xff7dbe0>"
      ]
     },
     "metadata": {},
     "output_type": "display_data"
    }
   ],
   "source": [
    "storeB.groupby(['Outlook']).mean()['Total Sales'].plot(kind = 'bar')"
   ]
  },
  {
   "cell_type": "code",
   "execution_count": 49,
   "metadata": {},
   "outputs": [
    {
     "data": {
      "text/plain": [
       "<matplotlib.axes._subplots.AxesSubplot at 0x1098fe48>"
      ]
     },
     "execution_count": 49,
     "metadata": {},
     "output_type": "execute_result"
    },
    {
     "data": {
      "image/png": "[encoded data removed]",
      "text/plain": [
       "<matplotlib.figure.Figure at 0x10feff98>"
      ]
     },
     "metadata": {},
     "output_type": "display_data"
    }
   ],
   "source": [
    "storeA.groupby(['Month']).mean()['Total Sales'].plot(kind = 'bar')"
   ]
  }
 ],
 "metadata": {
  "kernelspec": {
   "display_name": "Python 2",
   "language": "python",
   "name": "python2"
  },
  "language_info": {
   "codemirror_mode": {
    "name": "ipython",
    "version": 2
   },
   "file_extension": ".py",
   "mimetype": "text/x-python",
   "name": "python",
   "nbconvert_exporter": "python",
   "pygments_lexer": "ipython2",
   "version": "2.7.13"
  }
 },
 "nbformat": 4,
 "nbformat_minor": 2
}
